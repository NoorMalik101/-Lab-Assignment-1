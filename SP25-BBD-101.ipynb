{
 "cells": [
  {
   "cell_type": "markdown",
   "id": "23c2cc4c-3b10-4de6-998d-9b83cafd1c9c",
   "metadata": {},
   "source": [
    "# Question:1"
   ]
  },
  {
   "cell_type": "markdown",
   "id": "753a540e-cdb5-46c2-97f5-de0dd7e65890",
   "metadata": {},
   "source": [
    "# List Iteration:"
   ]
  },
  {
   "cell_type": "code",
   "execution_count": 4,
   "id": "634f786f-3fd1-45fc-be94-1ce18e4e9975",
   "metadata": {},
   "outputs": [],
   "source": [
    "movies = [\"Inception\", \"Interstellar\", \"The Dark Knight\", \"Avengers: Endgame\", \"The Matrix\"]"
   ]
  },
  {
   "cell_type": "code",
   "execution_count": 3,
   "id": "fafff666-186a-4aec-a2eb-855c4700217c",
   "metadata": {},
   "outputs": [
    {
     "name": "stdout",
     "output_type": "stream",
     "text": [
      "Inception\n",
      "Interstellar\n",
      "The Dark Knight\n",
      "Avengers: Endgame\n",
      "The Matrix\n"
     ]
    }
   ],
   "source": [
    "for movie in movies:\n",
    "    print(movie)"
   ]
  },
  {
   "cell_type": "code",
   "execution_count": 5,
   "id": "4fe844b8-7eef-46b8-94fe-ff0d867ce7cc",
   "metadata": {},
   "outputs": [
    {
     "name": "stdout",
     "output_type": "stream",
     "text": [
      "\n",
      "\n"
     ]
    }
   ],
   "source": [
    "print(\"\\n\")  # Just adding a line break for better readability"
   ]
  },
  {
   "cell_type": "code",
   "execution_count": 6,
   "id": "857e9289-89f0-42ca-9629-66f8aeaae024",
   "metadata": {},
   "outputs": [
    {
     "name": "stdout",
     "output_type": "stream",
     "text": [
      "0 : Inception\n",
      "1 : Interstellar\n",
      "2 : The Dark Knight\n",
      "3 : Avengers: Endgame\n",
      "4 : The Matrix\n"
     ]
    }
   ],
   "source": [
    "for i in range(len(movies)):\n",
    "    print(i, \":\", movies[i])"
   ]
  },
  {
   "cell_type": "markdown",
   "id": "c00c71d4-4438-47eb-90cf-2474c6229018",
   "metadata": {},
   "source": [
    "# Question:2"
   ]
  },
  {
   "cell_type": "markdown",
   "id": "69ae7dab-58d0-484b-a680-899acd27e0f6",
   "metadata": {},
   "source": [
    "# String Iteration:"
   ]
  },
  {
   "cell_type": "code",
   "execution_count": 7,
   "id": "86616962-0c66-4820-b30e-d2c7742b4f4b",
   "metadata": {},
   "outputs": [],
   "source": [
    "full_name = \"Noor Malik\"  "
   ]
  },
  {
   "cell_type": "code",
   "execution_count": 8,
   "id": "f7bb9bd9-b013-4780-97ec-19e8b93797ca",
   "metadata": {},
   "outputs": [
    {
     "name": "stdout",
     "output_type": "stream",
     "text": [
      "N\n",
      "o\n",
      "o\n",
      "r\n",
      " \n",
      "M\n",
      "a\n",
      "l\n",
      "i\n",
      "k\n"
     ]
    }
   ],
   "source": [
    "for char in full_name:\n",
    "    print(char)"
   ]
  },
  {
   "cell_type": "code",
   "execution_count": 9,
   "id": "993fdfba-374d-4f38-af4e-90c8917eb1db",
   "metadata": {},
   "outputs": [
    {
     "name": "stdout",
     "output_type": "stream",
     "text": [
      "\n",
      "\n"
     ]
    }
   ],
   "source": [
    "print(\"\\n\")"
   ]
  },
  {
   "cell_type": "code",
   "execution_count": 11,
   "id": "29fbf79f-7ef9-4086-866c-4cd52842c5a9",
   "metadata": {},
   "outputs": [
    {
     "name": "stdout",
     "output_type": "stream",
     "text": [
      "Total vowels in Noor Malik : 4\n"
     ]
    }
   ],
   "source": [
    "vowel_count = 0  # Start with zero vowels\n",
    "vowels = \"aeiouAEIOU\"  # vowels\n",
    "\n",
    "# Loop through each character in the name\n",
    "for letter in full_name:\n",
    "    if letter in vowels:  # Check if it's a vowel\n",
    "        vowel_count += 1  # Increase count\n",
    "\n",
    "print(\"Total vowels in\", full_name, \":\", vowel_count)\n"
   ]
  }
 ],
 "metadata": {
  "kernelspec": {
   "display_name": "anaconda-2024.02-py310",
   "language": "python",
   "name": "conda-env-anaconda-2024.02-py310-py"
  },
  "language_info": {
   "codemirror_mode": {
    "name": "ipython",
    "version": 3
   },
   "file_extension": ".py",
   "mimetype": "text/x-python",
   "name": "python",
   "nbconvert_exporter": "python",
   "pygments_lexer": "ipython3",
   "version": "3.10.14"
  }
 },
 "nbformat": 4,
 "nbformat_minor": 5
}
